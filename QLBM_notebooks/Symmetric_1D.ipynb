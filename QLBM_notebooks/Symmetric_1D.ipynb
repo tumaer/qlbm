{
 "cells": [
  {
   "cell_type": "code",
   "execution_count": null,
   "metadata": {},
   "outputs": [],
   "source": [
    "from QLBM import QLBM, get_velocity_set\n",
    "import numpy as np\n",
    "import matplotlib.pyplot as plt\n",
    "import qiskit_aer\n",
    "from qiskit import transpile"
   ]
  },
  {
   "cell_type": "code",
   "execution_count": null,
   "metadata": {},
   "outputs": [],
   "source": [
    "# Domain parameters\n",
    "L = 64               # Domain length\n",
    "u_0 = 0.1            # Initial velocity field\n",
    "n = 2                # Modes of the velocity field\n",
    "\n",
    "# Initial conditions\n",
    "Psi_0 = 1            # Initial scalar field concentration\n",
    "Psi_1 = 0.1          # Scalar field disturbance\n",
    "\n",
    "# Viscosity and time-related parameters\n",
    "nu = 0.001           # Kinematic viscosity\n",
    "T = 1 / (nu * 2)     # Total simulation time\n",
    "k = (2 * np.pi * n) / L  # Wave number based on domain length and mode\n",
    "delta_t = 1          # Time step size\n",
    "tau = 1              # Relaxation time\n",
    "\n",
    "# Diffusion and velocity settings\n",
    "c_s = 1 / np.sqrt(3)   # Speed of sound in lattice units\n",
    "D = c_s**2 * (tau - delta_t / 2)  # Diffusion coefficient\n",
    "\n",
    "# Simulation parameters\n",
    "NUMBER_DISCRETE_VELOCITIES = 3\n",
    "wave_length = L / n\n",
    "timesteps = int(np.ceil(T))       # Number of time steps\n",
    "N_pron = np.arange(1, 8)          # Range for pronumerations\n",
    "delta_x_range = L / 2**N_pron     # Range of delta x values\n",
    "t = np.arange(1, timesteps + 1)   # Time array\n",
    "\n",
    "# Error arrays\n",
    "L1_error = np.zeros(len(delta_x_range))\n",
    "L2_error = np.zeros(len(delta_x_range))\n",
    "L_inf_error = np.zeros(len(delta_x_range))"
   ]
  },
  {
   "cell_type": "code",
   "execution_count": null,
   "metadata": {},
   "outputs": [],
   "source": [
    "simulator = qiskit_aer.backends.statevector_simulator.StatevectorSimulator()"
   ]
  },
  {
   "cell_type": "code",
   "execution_count": null,
   "metadata": {},
   "outputs": [],
   "source": [
    "# Loop over different delta_x values\n",
    "for ii, delta_x in enumerate(delta_x_range):\n",
    "\n",
    "    # Set up LBM domain and initial conditions\n",
    "    L_lbm = L / delta_x\n",
    "    x_LBM = np.arange(0, L_lbm) + 0.5\n",
    "    Psi_qlbm = np.zeros((timesteps + 1, x_LBM.size))\n",
    "    Psi_qlbm[0, :] = Psi_0 + Psi_1 * np.cos(k * x_LBM * delta_x)\n",
    "    C_u = delta_x / delta_t\n",
    "\n",
    "    # Quantum LBM simulation loop\n",
    "    for jj in range(timesteps):\n",
    "        u_LBM = (u_0 * np.cos(nu * jj) / C_u) * np.ones(int(L_lbm))\n",
    "        qc = QLBM(density_field=Psi_qlbm[jj, :], velocity_field=u_LBM, number_velocities=NUMBER_DISCRETE_VELOCITIES)\n",
    "        \n",
    "        # Compile and run the quantum circuit\n",
    "        compiled_circuit = transpile(qc, simulator)\n",
    "        result = simulator.run(compiled_circuit).result()\n",
    "        \n",
    "        # Process the statevector\n",
    "        statevector = np.array(result.get_statevector())\n",
    "        real_part_statevector = np.real(statevector[:len(x_LBM)])\n",
    "        Psi_qlbm[jj + 1, :] = real_part_statevector * np.linalg.norm(Psi_qlbm[jj, :]) * 2\n",
    "\n",
    "    # Solve the analytical solution\n",
    "    x = x_LBM * delta_x\n",
    "    N_X = len(x_LBM)\n",
    "    Psi_analytical = np.zeros((timesteps, N_X))\n",
    "    for jj in range(timesteps):\n",
    "        cos_term = np.cos(k * x) * np.cos(u_0 * (k / nu) * np.sin(nu * t[jj]))\n",
    "        sin_term = np.sin(k * x) * np.sin(u_0 * (k / nu) * np.sin(nu * t[jj]))\n",
    "        Psi_analytical[jj, :] = Psi_0 + Psi_1 * np.exp(-k**2 * D * t[jj]) * (cos_term + sin_term)\n",
    "\n",
    "    # Delete the initial condition from Psi_qlbm\n",
    "    Psi_qlbm = np.delete(Psi_qlbm, 0, axis=0)\n",
    "\n",
    "    # Compute error norms\n",
    "    L1_error[ii] = np.sum(np.abs(Psi_analytical - Psi_qlbm)) / (N_X * timesteps)\n",
    "    L2_error[ii] = np.sum((Psi_analytical - Psi_qlbm)**2) / (N_X * timesteps)\n",
    "    L_inf_error[ii] = np.max(np.abs(Psi_analytical - Psi_qlbm))"
   ]
  },
  {
   "cell_type": "code",
   "execution_count": null,
   "metadata": {},
   "outputs": [],
   "source": [
    "plt.rcParams.update({'font.size': 22})\n",
    "plt.rcParams['text.usetex'] = True\n",
    "plt.figure(1,figsize=(10, 6), dpi=300)\n",
    "\n",
    "plt.plot(L/(delta_x_range),L1_error,label='L1')\n",
    "plt.xlabel('Number of lattice sites')\n",
    "plt.ylabel('$\\epsilon_{L_1}$')\n",
    "plt.xscale('log',base=2)\n",
    "plt.yscale('log')\n",
    "plt.xlim([L/(delta_x_range[0]),L/(delta_x_range[-1])])\n",
    "plt.grid(True, which=\"both\", ls=\"-\")\n",
    "# plt.savefig('L1.pdf', bbox_inches=\"tight\")"
   ]
  },
  {
   "cell_type": "code",
   "execution_count": null,
   "metadata": {},
   "outputs": [],
   "source": [
    "plt.rcParams.update({'font.size': 22})\n",
    "plt.rcParams['text.usetex'] = True\n",
    "plt.figure(2,figsize=(10, 6), dpi=300)\n",
    "plt.plot(L/(delta_x_range),np.sqrt(L2_error),label='L1')\n",
    "plt.xlabel('Number of lattice sites')\n",
    "plt.ylabel('$\\epsilon_{L_2}$')\n",
    "plt.xscale('log',base=2)\n",
    "plt.yscale('log')\n",
    "plt.xlim([L/(delta_x_range[0]),L/(delta_x_range[-1])])\n",
    "plt.grid(True, which=\"both\", ls=\"-\")\n",
    "#plt.savefig('L2.pdf', bbox_inches=\"tight\")"
   ]
  },
  {
   "cell_type": "markdown",
   "metadata": {},
   "source": []
  },
  {
   "cell_type": "code",
   "execution_count": null,
   "metadata": {},
   "outputs": [],
   "source": [
    "plt.rcParams.update({'font.size': 22})\n",
    "plt.rcParams['text.usetex'] = True\n",
    "plt.figure(3,figsize=(10, 6), dpi=300)\n",
    "plt.plot(L/(delta_x_range),L_inf_error,label='$L_{\\infty}$')\n",
    "plt.xlabel('Number of lattice sites')\n",
    "plt.ylabel('$\\epsilon_{L_\\infty}$')\n",
    "plt.xscale('log',base=2)\n",
    "plt.yscale('log')\n",
    "plt.xlim([L/(delta_x_range[0]),L/(delta_x_range[-1])])\n",
    "plt.grid(True, which=\"both\", ls=\"-\")\n",
    "#plt.savefig('Linfty.pdf', bbox_inches=\"tight\")"
   ]
  }
 ],
 "metadata": {
  "kernelspec": {
   "display_name": "papersolutions",
   "language": "python",
   "name": "python3"
  },
  "language_info": {
   "codemirror_mode": {
    "name": "ipython",
    "version": 3
   },
   "file_extension": ".py",
   "mimetype": "text/x-python",
   "name": "python",
   "nbconvert_exporter": "python",
   "pygments_lexer": "ipython3",
   "version": "3.8.15"
  }
 },
 "nbformat": 4,
 "nbformat_minor": 2
}
