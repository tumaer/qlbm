{
 "cells": [
  {
   "cell_type": "code",
   "execution_count": null,
   "metadata": {},
   "outputs": [],
   "source": [
    "from QLBM import QLBM, QLBMV2\n",
    "import numpy as np\n",
    "import matplotlib.pyplot as plt\n",
    "import qiskit_aer\n",
    "from qiskit import transpile\n",
    "from qiskit_aer import AerSimulator\n"
   ]
  },
  {
   "cell_type": "code",
   "execution_count": null,
   "metadata": {},
   "outputs": [],
   "source": [
    "# Domain and simulation parameters\n",
    "N_POINTS_X = 256  # Number of points in the 1D grid\n",
    "x_0 = np.arange(N_POINTS_X)  # Spatial grid\n",
    "timesteps = 10  # Number of timesteps\n",
    "c_s = 1 / np.sqrt(3)  # Speed of sound in lattice units\n",
    "NUMBER_DISCRETE_VELOCITIES = 3  # For D1Q3 lattice\n",
    "\n",
    "# Gaussian hill parameters\n",
    "Psi = 0.2                # Initial concentration at the peak of the hill\n",
    "Psi_ambient = 0.1        # Ambient scalar field concentration\n",
    "sigma_0 = 15             # Width of the Gaussian hill\n",
    "u = 0.2                  # Constant velocity field in the x-direction\n",
    "x = int(N_POINTS_X / 2)  # Initial center of the Gaussian hill\n",
    "\n",
    "# Initialize the scalar field for Quantum LBM\n",
    "Psi_qlbm = np.zeros((timesteps + 1, N_POINTS_X))\n",
    "Psi_qlbm[0, :] = Psi * np.exp(-(x - x_0) ** 2 / (2 * sigma_0 ** 2)) + Psi_ambient  # Initial condition"
   ]
  },
  {
   "cell_type": "code",
   "execution_count": null,
   "metadata": {},
   "outputs": [],
   "source": [
    "simulator = AerSimulator()"
   ]
  },
  {
   "cell_type": "code",
   "execution_count": null,
   "metadata": {},
   "outputs": [],
   "source": [
    "# Quantum LBM simulation parameters\n",
    "shots = 10**7  # Number of shots for sampling\n",
    "percentage_in_solution = np.zeros(timesteps)  # Track percentage of probability in solution states\n",
    "density_summed = np.zeros(timesteps + 1)  # Track total density sum over time\n",
    "density_summed[0] = np.sum(Psi_qlbm[0, :])  # Initial density sum\n",
    "\n",
    "# Quantum LBM simulation loop\n",
    "for t in range(timesteps):\n",
    "    # Define constant velocity field\n",
    "    u_LBM = np.ones(N_POINTS_X) * u\n",
    "\n",
    "    # Create and measure all qubits in the Quantum LBM circuit\n",
    "    qc_v2 = QLBMV2(density_field=Psi_qlbm[t, :], velocity_field=u_LBM, number_velocities=NUMBER_DISCRETE_VELOCITIES)\n",
    "    qc_v2.measure_all()\n",
    "    \n",
    "    # Transpile and run the circuit\n",
    "    compiled_circuit = transpile(qc_v2, simulator)\n",
    "    result = simulator.run(compiled_circuit, shots=shots).result()\n",
    "    counts = result.get_counts()\n",
    "\n",
    "    # Convert counts to probabilities\n",
    "    quasi_dists = {key: count / shots for key, count in counts.items()}\n",
    "    \n",
    "    # Calculate the number of states based on N_POINTS_X and number of velocities\n",
    "    num_states = 2**(int(np.log2(3 * N_POINTS_X) + 2))\n",
    "    probabilities = np.zeros(num_states)\n",
    "\n",
    "    # Map each binary state to its probability from counts\n",
    "    for state_index in range(num_states):\n",
    "        binary_state = format(state_index, f'0{int(np.log2(num_states))}b')\n",
    "        probabilities[state_index] = quasi_dists.get(binary_state, 0.0)\n",
    "\n",
    "    # HYBRID APPROACH (V2): Compute the next timestep's density field in Psi_qlbm\n",
    "    Psi_qlbm[t + 1, :] = (\n",
    "        np.sqrt(probabilities[:N_POINTS_X]) +\n",
    "        np.sqrt(probabilities[N_POINTS_X:2 * N_POINTS_X]) +\n",
    "        np.sqrt(probabilities[2 * N_POINTS_X:3 * N_POINTS_X])\n",
    "    ) * np.linalg.norm(Psi_qlbm[t, :].flatten())\n",
    "\n",
    "    # Track percentage of total probability in solution states\n",
    "    percentage_in_solution[t] = np.sum(probabilities[:3 * N_POINTS_X])\n",
    "\n",
    "    # Update total density sum for the next timestep\n",
    "    density_summed[t + 1] = np.sum(Psi_qlbm[t, :])"
   ]
  },
  {
   "cell_type": "code",
   "execution_count": null,
   "metadata": {},
   "outputs": [],
   "source": [
    "# Lattice parameters for D1Q3\n",
    "LATTICE_WEIGHTS = np.array([2/3, 1/6, 1/6])\n",
    "LATTICE_VELOCITIES = np.array([0, 1, -1])  # Velocities for f0, f1, f2\n",
    "\n",
    "# Initialize the classical LBM scalar field\n",
    "Psi_lbm = np.zeros((timesteps + 1, N_POINTS_X))\n",
    "Psi_lbm[0, :] = Psi * np.exp(-(x - x_0) ** 2 / (2 * sigma_0 ** 2)) + Psi_ambient  # Initial condition\n",
    "\n",
    "# Classical LBM simulation loop\n",
    "for t in range(timesteps):\n",
    "    # Compute equilibrium distributions\n",
    "    f = np.zeros((3, N_POINTS_X))\n",
    "    f[0] = LATTICE_WEIGHTS[0] * Psi_lbm[t, :]  # Central distribution\n",
    "    f[1] = LATTICE_WEIGHTS[1] * Psi_lbm[t, :] * (1 + (LATTICE_VELOCITIES[1] * u) / (c_s**2))  # Right-moving distribution\n",
    "    f[2] = LATTICE_WEIGHTS[2] * Psi_lbm[t, :] * (1 + (LATTICE_VELOCITIES[2] * u) / (c_s**2))  # Left-moving distribution\n",
    "\n",
    "    # Streaming step: Shift each distribution according to its lattice velocity\n",
    "    f[1] = np.roll(f[1], LATTICE_VELOCITIES[1], axis=0)  # Shift f1 to the right\n",
    "    f[2] = np.roll(f[2], LATTICE_VELOCITIES[2], axis=0)  # Shift f2 to the left\n",
    "\n",
    "    # Update scalar field by summing all distributions\n",
    "    Psi_lbm[t + 1, :] = np.sum(f, axis=0)"
   ]
  },
  {
   "cell_type": "code",
   "execution_count": null,
   "metadata": {},
   "outputs": [],
   "source": [
    "# Initialize MSE, RMSE, and MAPE arrays\n",
    "MSE = np.zeros(timesteps)\n",
    "RMSE = np.zeros(timesteps)\n",
    "MAPE = np.zeros(timesteps)\n",
    "\n",
    "# Calculate MSE, RMSE, and MAPE for each timestep\n",
    "for t in range(timesteps):\n",
    "    # Mean Squared Error\n",
    "    MSE[t] = np.square(np.subtract(Psi_lbm[t, :], Psi_qlbm[t, :])).mean()\n",
    "    \n",
    "    # Root Mean Squared Error\n",
    "    RMSE[t] = np.sqrt(MSE[t])\n",
    "    \n",
    "    # Mean Absolute Percentage Error\n",
    "    MAPE[t] = (np.abs(np.subtract(Psi_lbm[t, :], Psi_qlbm[t, :])) / Psi_lbm[t, :]).mean() * 100"
   ]
  },
  {
   "cell_type": "code",
   "execution_count": null,
   "metadata": {},
   "outputs": [],
   "source": [
    "time_y = np.arange(0,timesteps+1,1)\n",
    "\n",
    "plt.rcParams.update({'font.size': 22})\n",
    "plt.rcParams['text.usetex'] = True\n",
    "plt.figure(1,figsize=(10, 6), dpi=300)\n",
    "plt.plot(time_y,density_summed/density_summed[0],'--',color='green')\n",
    "plt.grid()\n",
    "plt.ylabel('normalized mass',fontsize=18)\n",
    "plt.xlabel('time step',fontsize=18)\n",
    "plt.ticklabel_format(axis='y', style='plain')\n",
    "plt.draw()\n"
   ]
  },
  {
   "cell_type": "code",
   "execution_count": null,
   "metadata": {},
   "outputs": [],
   "source": [
    "plt.rcParams.update({'font.size': 22})\n",
    "plt.rcParams['text.usetex'] = True\n",
    "plt.figure(1,figsize=(10, 6), dpi=300)\n",
    "plt.plot(time_y[1:],MAPE,'--',color='purple')\n",
    "plt.grid()\n",
    "plt.ylabel('MAPE in $\\%$',fontsize=18)\n",
    "plt.xlabel('time step',fontsize=18)\n",
    "plt.draw()"
   ]
  },
  {
   "cell_type": "code",
   "execution_count": null,
   "metadata": {},
   "outputs": [],
   "source": [
    "time = 5\n",
    "plt.rcParams.update({'font.size': 22})\n",
    "plt.rcParams['text.usetex'] = True\n",
    "plt.figure(1,figsize=(10, 6), dpi=300)\n",
    "plt.plot(x_0,Psi_qlbm[time-1,:],'-',color='orange')\n",
    "plt.plot(x_0,Psi_lbm[time-1,:],'--',color='green')\n",
    "plt.grid()\n",
    "plt.ylabel('$\\Phi$',fontsize=18)\n",
    "plt.xlabel('x',fontsize=18)\n",
    "plt.xlim([0,256])\n",
    "plt.draw()"
   ]
  }
 ],
 "metadata": {
  "kernelspec": {
   "display_name": "papersolutions",
   "language": "python",
   "name": "python3"
  },
  "language_info": {
   "codemirror_mode": {
    "name": "ipython",
    "version": 3
   },
   "file_extension": ".py",
   "mimetype": "text/x-python",
   "name": "python",
   "nbconvert_exporter": "python",
   "pygments_lexer": "ipython3",
   "version": "3.8.15"
  }
 },
 "nbformat": 4,
 "nbformat_minor": 2
}
