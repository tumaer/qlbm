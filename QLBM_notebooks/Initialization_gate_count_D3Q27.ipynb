{
 "cells": [
  {
   "cell_type": "code",
   "execution_count": null,
   "metadata": {},
   "outputs": [],
   "source": [
    "from qiskit import QuantumRegister,QuantumCircuit,transpile\n",
    "import numpy as np\n",
    "import matplotlib.pyplot as plt\n",
    "from QLBM import duplicate_density_field"
   ]
  },
  {
   "cell_type": "code",
   "execution_count": null,
   "metadata": {},
   "outputs": [],
   "source": [
    "field_encoding_qubit_number = np.arange(1,12)\n",
    "gate_counts_list_baseline_initialization = []\n",
    "gate_counts_list_improved_initialization = []"
   ]
  },
  {
   "cell_type": "code",
   "execution_count": null,
   "metadata": {},
   "outputs": [],
   "source": [
    "# Loop over different numbers of qubits for field encoding\n",
    "for qubit_number in field_encoding_qubit_number:\n",
    "    # Define grid dimensions based on qubit number\n",
    "    N_POINTS_X = 2**qubit_number\n",
    "    N_POINTS_Y = 2**1\n",
    "    N_POINTS_Z = 2**1\n",
    "\n",
    "    # Initialize the field and a zero field\n",
    "    Psi_init = np.full((N_POINTS_X, N_POINTS_Y, N_POINTS_Z), 0.1)\n",
    "    zeros_ = np.zeros((N_POINTS_X, N_POINTS_Y, N_POINTS_Z))\n",
    "\n",
    "    # Create and normalize baseline and improved state vectors\n",
    "    concatenated_baseline = np.concatenate([Psi_init] * 27 + [zeros_] * 5, axis=None)\n",
    "    Normalized_psi_baseline = concatenated_baseline / np.linalg.norm(concatenated_baseline)\n",
    "    Normalized_psi_improved = Psi_init.flatten() / np.linalg.norm(Psi_init.flatten())\n",
    "\n",
    "    # Quantum registers for x, y, z axes and field velocities (specific to D3Q27 model)\n",
    "    qx = QuantumRegister(qubit_number, 'qx')\n",
    "    qy = QuantumRegister(1, 'qy')\n",
    "    qz = QuantumRegister(1, 'qz')\n",
    "    qf = QuantumRegister(5, 'qf')  # for D3Q27 velocities\n",
    "\n",
    "    # Initialize quantum circuits for baseline and improved models\n",
    "    qc_baseline = QuantumCircuit(qx, qy, qz, qf)\n",
    "    qc_improved = QuantumCircuit(qx, qy, qz, qf)\n",
    "\n",
    "    # Apply initializations\n",
    "    qc_baseline.initialize(Normalized_psi_baseline, qc_baseline.qubits)\n",
    "    qc_improved.initialize(Normalized_psi_improved, [qx, qy, qz])\n",
    "    duplicate_density_field(qc=qc_improved, num_velocities=27)\n",
    "\n",
    "    # Transpile circuits with optimization level 1\n",
    "    result_baseline = transpile(qc_baseline, basis_gates=['id', 'rz', 'sx', 'cx', 'x'], optimization_level=1)\n",
    "    result_improved = transpile(qc_improved, basis_gates=['id', 'rz', 'sx', 'cx', 'x'], optimization_level=1)\n",
    "\n",
    "    # Collect gate counts for each approach\n",
    "    gate_counts_baseline = result_baseline.count_ops()\n",
    "    gate_counts_improved = result_improved.count_ops()\n",
    "    gate_counts_list_baseline_initialization.append(gate_counts_baseline)\n",
    "    gate_counts_list_improved_initialization.append(gate_counts_improved)"
   ]
  },
  {
   "cell_type": "code",
   "execution_count": null,
   "metadata": {},
   "outputs": [],
   "source": [
    "# Convert the list of gate count dictionaries to NumPy arrays\n",
    "gate_arrays_improved = [np.array(list(gate_counts.values())) for gate_counts in gate_counts_list_improved_initialization]\n",
    "gate_arrays_basline = [np.array(list(gate_counts_2.values())) for gate_counts_2 in gate_counts_list_baseline_initialization]\n"
   ]
  },
  {
   "cell_type": "code",
   "execution_count": null,
   "metadata": {},
   "outputs": [],
   "source": [
    "plt.rcParams.update({'font.size': 22})\n",
    "plt.figure(2,figsize=(10, 6), dpi=300)\n",
    "for i in range(len(gate_arrays_improved[0])-2):\n",
    "    plt.plot(field_encoding_qubit_number+4, [gate_array[i] for gate_array in gate_arrays_improved],'b--' if i == 0 else 'g--' if i == 1 else 'k--')\n",
    "\n",
    "for i in range(len(gate_arrays_basline[0])):\n",
    "    plt.plot(field_encoding_qubit_number+4, [gate_array_2[i] for gate_array_2 in gate_arrays_basline], 'b' if i == 0 else 'g' if i == 1 else 'k')\n",
    "\n",
    "plt.grid()\n",
    "plt.legend(['RZ optimized','SX optimized','CX optimized','RZ baseline', 'SX baseline', 'CX baseline'],fontsize=16)\n",
    "plt.ylabel('Gate number',fontsize=18)\n",
    "plt.xlabel('Qubit number',fontsize=18)\n",
    "plt.yscale('log')\n",
    "plt.setp(plt.gca().lines, linewidth=1.5)\n",
    "plt.gcf().set_dpi(300)\n",
    "plt.xlim([5,12])\n",
    "plt.ylim([1,10**5])\n",
    "plt.xticks(fontsize=16)\n",
    "plt.yticks(fontsize=16)\n",
    "plt.draw()"
   ]
  }
 ],
 "metadata": {
  "kernelspec": {
   "display_name": "papersolutions",
   "language": "python",
   "name": "python3"
  },
  "language_info": {
   "codemirror_mode": {
    "name": "ipython",
    "version": 3
   },
   "file_extension": ".py",
   "mimetype": "text/x-python",
   "name": "python",
   "nbconvert_exporter": "python",
   "pygments_lexer": "ipython3",
   "version": "3.8.15"
  },
  "orig_nbformat": 4
 },
 "nbformat": 4,
 "nbformat_minor": 2
}
