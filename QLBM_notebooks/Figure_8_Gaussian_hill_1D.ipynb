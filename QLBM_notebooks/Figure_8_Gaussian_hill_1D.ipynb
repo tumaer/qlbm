{
 "cells": [
  {
   "cell_type": "code",
   "execution_count": null,
   "metadata": {},
   "outputs": [],
   "source": [
    "from QLBM import QLBM\n",
    "import numpy as np\n",
    "import matplotlib.pyplot as plt\n",
    "import qiskit_aer\n",
    "from qiskit import transpile"
   ]
  },
  {
   "cell_type": "code",
   "execution_count": null,
   "metadata": {},
   "outputs": [],
   "source": [
    "# Domain and simulation parameters\n",
    "N_POINTS_X = 128  # Number of points in the 1D grid\n",
    "x_0 = np.arange(N_POINTS_X)  # Spatial grid\n",
    "timesteps = 100  # Number of timesteps\n",
    "c_s = 1 / np.sqrt(3)  # Speed of sound in lattice units\n",
    "NUMBER_DISCRETE_VELOCITIES = 3  # For D1Q3 lattice\n",
    "\n",
    "# Gaussian hill parameters\n",
    "Psi = 0.3                 # Initial concentration at the peak of the hill\n",
    "Psi_ambient = 0.1         # Ambient concentration\n",
    "sigma_0 = 15              # Width of the Gaussian hill\n",
    "u = 0.2                   # Constant velocity field in the x-direction\n",
    "x = 50                    # Initial center position of the Gaussian hill\n",
    "\n",
    "# Initialize the scalar field\n",
    "Psi_qlbm = np.zeros((timesteps + 1, N_POINTS_X))\n",
    "Psi_qlbm[0, :] = Psi * np.exp(-(x - x_0)**2 / (2 * sigma_0**2)) + Psi_ambient  # Initial condition\n",
    "\n",
    "# Diffusion coefficient\n",
    "D = 0.5 * c_s**2"
   ]
  },
  {
   "cell_type": "code",
   "execution_count": null,
   "metadata": {},
   "outputs": [],
   "source": [
    "simulator = qiskit_aer.backends.statevector_simulator.StatevectorSimulator()"
   ]
  },
  {
   "cell_type": "code",
   "execution_count": null,
   "metadata": {},
   "outputs": [],
   "source": [
    "# Quantum LBM simulation loop\n",
    "for t in range(timesteps):\n",
    "    # Initialize velocity field as a constant value\n",
    "    u_LBM = np.ones(N_POINTS_X) * u  # Constant velocity field in x-direction\n",
    "\n",
    "    # Create and run the quantum circuit for QLBM\n",
    "    qc = QLBM(density_field=Psi_qlbm[t, :], velocity_field=u_LBM, number_velocities=NUMBER_DISCRETE_VELOCITIES)\n",
    "    compiled_circuit = transpile(qc, simulator)\n",
    "    result = simulator.run(compiled_circuit).result()\n",
    "\n",
    "    # Extract the statevector and process the real part\n",
    "    statevector = np.array(result.get_statevector())\n",
    "    real_part_statevector = np.real(statevector[:N_POINTS_X])\n",
    "\n",
    "    # Normalize and update the scalar field for the next timestep\n",
    "    Psi_qlbm[t + 1, :] = real_part_statevector * np.linalg.norm(Psi_qlbm[t, :]) * 2"
   ]
  },
  {
   "cell_type": "code",
   "execution_count": null,
   "metadata": {},
   "outputs": [],
   "source": [
    "# Initialize the classical LBM scalar field\n",
    "Psi_lbm = np.zeros((timesteps + 1, N_POINTS_X))\n",
    "Psi_lbm[0, :] = Psi * np.exp(-(x - x_0)**2 / (2 * sigma_0**2)) + Psi_ambient  # Initial condition\n",
    "\n",
    "# Initialize f to store all distribution functions (f0, f1, f2)\n",
    "f = np.zeros((NUMBER_DISCRETE_VELOCITIES, N_POINTS_X))\n",
    "\n",
    "# Classical LBM simulation loop\n",
    "for t in range(timesteps):\n",
    "    # Compute equilibrium distributions and store them in f\n",
    "    f[0] = (2 / 3) * Psi_lbm[t]                           # Central distribution (f0)\n",
    "    f[1] = (1 / 6) * Psi_lbm[t] * (1 + (u / c_s**2))      # Right-moving distribution (f1)\n",
    "    f[2] = (1 / 6) * Psi_lbm[t] * (1 + (-u / c_s**2))     # Left-moving distribution (f2)\n",
    "\n",
    "    # Streaming step: Shift each distribution in the direction of its velocity\n",
    "    f[1] = np.roll(f[1], 1, axis=0)   # Shift f1 to the right\n",
    "    f[2] = np.roll(f[2], -1, axis=0)  # Shift f2 to the left\n",
    "\n",
    "    # Update scalar field by summing over all distributions\n",
    "    Psi_lbm[t + 1] = np.sum(f, axis=0)"
   ]
  },
  {
   "cell_type": "code",
   "execution_count": null,
   "metadata": {},
   "outputs": [],
   "source": [
    "# Initialize the analytical solution array\n",
    "Psi_analytical = np.zeros((timesteps + 1, N_POINTS_X))\n",
    "Psi_analytical[0, :] = Psi * np.exp(-(x - x_0) ** 2 / (2 * sigma_0 ** 2)) + Psi_ambient  # Initial condition\n",
    "\n",
    "# Compute the analytical solution for each timestep\n",
    "for t in range(1, timesteps + 1):\n",
    "    sigma_D = np.sqrt(2 * D * t)  # Effective diffusion width at time t\n",
    "    diffusion_factor = sigma_0 ** 2 / (sigma_0 ** 2 + sigma_D ** 2)  # Precomputed factor for efficiency\n",
    "    \n",
    "    for i in range(N_POINTS_X):\n",
    "        shifted_position = x - x_0[i] + u * t \n",
    "        Psi_analytical[t, i] = diffusion_factor * Psi * np.exp(-shifted_position ** 2 / (2 * (sigma_0 ** 2 + sigma_D ** 2))) + Psi_ambient"
   ]
  },
  {
   "cell_type": "code",
   "execution_count": null,
   "metadata": {},
   "outputs": [],
   "source": [
    "plt.rcParams.update({'font.size': 35})\n",
    "plt.rcParams['text.usetex'] = True\n",
    "plt.figure(figsize=(18.5, 10.5), dpi=100)\n",
    "plt.plot(x_0, Psi_analytical[-1, :], label='Analytical (t={})'.format(timesteps))\n",
    "plt.plot(x_0, Psi_lbm[-1, :], 'o', label='LBM (t={})'.format(timesteps))\n",
    "plt.plot(x_0, Psi_qlbm[-1, :], 'x', label='QLBM (t={})'.format(timesteps))\n",
    "plt.xlabel('x')\n",
    "plt.ylabel('$\\Psi$')\n",
    "plt.title('Comparison of Analytical, LBM, and QLBM Solutions at Final Timestep')\n",
    "plt.grid()\n",
    "plt.legend()\n",
    "plt.show()"
   ]
  },
  {
   "cell_type": "code",
   "execution_count": null,
   "metadata": {},
   "outputs": [],
   "source": [
    "# Initialize MSE and RMSE arrays\n",
    "MSE = np.zeros(timesteps)\n",
    "RMSE = np.zeros(timesteps)\n",
    "\n",
    "# Remove the initial condition from the classical and quantum fields\n",
    "Psi_classical_no_init = Psi_lbm[1:, :]\n",
    "Psi_quantum_no_init = Psi_qlbm[1:, :]\n",
    "\n",
    "# Calculate MSE and RMSE for each timestep\n",
    "for t in range(timesteps):\n",
    "    # Calculate the difference between quantum and classical fields at the current timestep\n",
    "    difference = Psi_quantum_no_init[t, :] - Psi_classical_no_init[t, :]\n",
    "    \n",
    "    # Compute MSE and RMSE for the current timestep\n",
    "    MSE[t] = np.mean(np.square(difference))\n",
    "    RMSE[t] = np.sqrt(MSE[t])"
   ]
  },
  {
   "cell_type": "code",
   "execution_count": null,
   "metadata": {},
   "outputs": [],
   "source": [
    "plt.rcParams.update({'font.size': 35})\n",
    "plt.rcParams['text.usetex'] = True\n",
    "plt.figure(figsize=(18.5, 10.5), dpi=100)\n",
    "plt.plot(range(timesteps), RMSE, linewidth=3, label='D1Q3')\n",
    "plt.grid()\n",
    "plt.legend(loc='best')\n",
    "plt.title('RMSE between Digital and Quantum LBM')\n",
    "plt.ylabel('Error')\n",
    "plt.xlabel('Time Step')\n",
    "plt.show()"
   ]
  }
 ],
 "metadata": {
  "kernelspec": {
   "display_name": "papersolutions",
   "language": "python",
   "name": "python3"
  },
  "language_info": {
   "codemirror_mode": {
    "name": "ipython",
    "version": 3
   },
   "file_extension": ".py",
   "mimetype": "text/x-python",
   "name": "python",
   "nbconvert_exporter": "python",
   "pygments_lexer": "ipython3",
   "version": "3.8.15"
  }
 },
 "nbformat": 4,
 "nbformat_minor": 2
}
