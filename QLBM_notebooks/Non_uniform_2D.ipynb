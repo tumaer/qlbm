{
 "cells": [
  {
   "cell_type": "code",
   "execution_count": null,
   "metadata": {},
   "outputs": [],
   "source": [
    "from QLBM import QLBM, collision, InitializeQC\n",
    "import numpy as np\n",
    "import matplotlib.pyplot as plt\n",
    "import qiskit_aer\n",
    "from qiskit import transpile"
   ]
  },
  {
   "cell_type": "code",
   "execution_count": null,
   "metadata": {},
   "outputs": [],
   "source": [
    "# Domain and grid setup\n",
    "N_POINTS_X, N_POINTS_Y = 32, 16\n",
    "x_0 = np.arange(N_POINTS_X)\n",
    "y_0 = np.arange(N_POINTS_Y)\n",
    "X, Y = np.meshgrid(x_0, y_0)  # Create a 2D grid\n",
    "\n",
    "# Simulation parameters\n",
    "TIMESTEPS = 50\n",
    "NUMBER_DISCRETE_VELOCITIES = 9  # D2Q9 lattice configuration\n",
    "\n",
    "# Velocity field initialization\n",
    "u = np.full((N_POINTS_X, N_POINTS_Y), 0.2)      # Initialize u component\n",
    "u[:, int(N_POINTS_Y / 2):] = -0.2               # Set negative u component in the upper half\n",
    "v = np.full((N_POINTS_X, N_POINTS_Y), 0.1)      # Initialize v component\n",
    "\n",
    "# Scalar field initialization\n",
    "Psi_init = np.full((N_POINTS_X, N_POINTS_Y), 0.1)\n",
    "\n",
    "# Cylinder parameters\n",
    "CYLINDER_CENTER_INDEX_X = N_POINTS_X / 2\n",
    "CYLINDER_CENTER_INDEX_Y = N_POINTS_Y / 2\n",
    "CYLINDER_RADIUS_OUTER = 4\n",
    "CYLINDER_RADIUS_INNER = 2\n",
    "\n",
    "# Create a ring shape within the scalar field\n",
    "distance_from_center = np.sqrt((X - CYLINDER_CENTER_INDEX_X)**2 + (Y - CYLINDER_CENTER_INDEX_Y)**2)\n",
    "ring = ((distance_from_center < CYLINDER_RADIUS_OUTER) & \n",
    "        (distance_from_center > CYLINDER_RADIUS_INNER)).T\n",
    "Psi_init[ring] = 0.4  # Set higher concentration in the ring region"
   ]
  },
  {
   "cell_type": "code",
   "execution_count": null,
   "metadata": {},
   "outputs": [],
   "source": [
    "simulator = qiskit_aer.backends.statevector_simulator.StatevectorSimulator()"
   ]
  },
  {
   "cell_type": "code",
   "execution_count": null,
   "metadata": {},
   "outputs": [],
   "source": [
    "# Initialize the quantum LBM scalar field\n",
    "Psi_qlbm = np.zeros((TIMESTEPS + 1, N_POINTS_X, N_POINTS_Y))\n",
    "Psi_qlbm[0, :, :] = Psi_init\n",
    "\n",
    "# Quantum LBM simulation loop\n",
    "for t in range(TIMESTEPS):\n",
    "    # Initialize velocity field for the current timestep\n",
    "    u_LBM = np.ones((N_POINTS_X, N_POINTS_Y, 2))\n",
    "    u_LBM[:, :, 0] = u  # Set the x-component of the velocity\n",
    "    u_LBM[:, :, 1] = v  # Set the y-component of the velocity\n",
    "\n",
    "    # Create and run the quantum circuit for LBM\n",
    "    qc = QLBM(density_field=Psi_qlbm[t, :, :], velocity_field=u_LBM, number_velocities=NUMBER_DISCRETE_VELOCITIES)\n",
    "    compiled_circuit = transpile(qc, simulator)\n",
    "    result = simulator.run(compiled_circuit).result()\n",
    "    \n",
    "    # Process the quantum statevector to update Psi_qlbm\n",
    "    statevector = np.array(result.get_statevector())\n",
    "    real_part_statevector = np.real(statevector[:N_POINTS_X * N_POINTS_Y])\n",
    "    real_part_statevector_reshaped = np.reshape(real_part_statevector, (N_POINTS_X, N_POINTS_Y), order='F')\n",
    "    \n",
    "    # Normalize and update the scalar field for the next timestep\n",
    "    Psi_qlbm[t + 1, :, :] = real_part_statevector_reshaped * np.linalg.norm(Psi_qlbm[t, :, :].flatten()) * 4"
   ]
  },
  {
   "cell_type": "code",
   "execution_count": null,
   "metadata": {},
   "outputs": [],
   "source": [
    "plt.rcParams.update({'font.size': 35})\n",
    "plt.rcParams['text.usetex'] = True\n",
    "major_ticks = np.arange(0, 33, 5)\n",
    "minor_ticks = np.arange(0, 33, 5)\n",
    "timestep=-1\n",
    "fig, ax = plt.subplots(1, figsize=(18.5, 10.5), dpi=100)\n",
    "ax.set_xticks(major_ticks)\n",
    "ax.set_yticks(major_ticks)\n",
    "plt.imshow(Psi_qlbm[timestep,:,:].T)\n",
    "ax.invert_yaxis()\n",
    "ax.grid()\n",
    "ax.set_xlabel('X')\n",
    "ax.set_ylabel('Y')"
   ]
  },
  {
   "cell_type": "code",
   "execution_count": null,
   "metadata": {},
   "outputs": [],
   "source": [
    "# Lattice parameters for D2Q9\n",
    "LATTICE_VELOCITIES = np.array([\n",
    "    [ 0,  1,  0, -1,  0,  1, -1, -1,  1],\n",
    "    [ 0,  0,  1,  0, -1,  1,  1, -1, -1]\n",
    "])\n",
    "\n",
    "LATTICE_WEIGHTS = np.array([\n",
    "    4/9,                        # Center Velocity\n",
    "    1/9, 1/9, 1/9, 1/9,         # Axis-Aligned Velocities\n",
    "    1/36, 1/36, 1/36, 1/36      # Diagonal Velocities\n",
    "])\n",
    "\n",
    "# Initialize the scalar field for classical LBM\n",
    "Psi_classical = np.zeros((TIMESTEPS + 1, N_POINTS_X, N_POINTS_Y))\n",
    "Psi_classical[0, :, :] = Psi_init\n",
    "\n",
    "# Speed of sound\n",
    "c_s = 1 / np.sqrt(3)\n",
    "\n",
    "# Classical LBM loop\n",
    "for t in range(TIMESTEPS):\n",
    "    # Calculate equilibrium distribution functions for each velocity direction\n",
    "    f0 = LATTICE_WEIGHTS[0] * Psi_classical[t, :, :]\n",
    "    \n",
    "    f = [f0]  # List to hold all f components including f0 for easy summing later\n",
    "    for i in range(1, 9):\n",
    "        velocity_projection = (LATTICE_VELOCITIES[0, i] * u + LATTICE_VELOCITIES[1, i] * v) / (c_s**2)\n",
    "        fi = LATTICE_WEIGHTS[i] * Psi_classical[t, :, :] * (1 + velocity_projection)\n",
    "        f.append(fi)\n",
    "\n",
    "    # Streaming step: Shift each distribution along its corresponding velocity direction\n",
    "    for i in range(1, 9):\n",
    "        f[i] = np.roll(np.roll(f[i], LATTICE_VELOCITIES[1, i], axis=1), LATTICE_VELOCITIES[0, i], axis=0)\n",
    "\n",
    "    # Update scalar field by summing over all distributions\n",
    "    Psi_classical[t + 1, :, :] = sum(f)"
   ]
  },
  {
   "cell_type": "code",
   "execution_count": null,
   "metadata": {},
   "outputs": [],
   "source": [
    "# Initialize MSE and RMSE arrays\n",
    "MSE_opt = np.zeros(TIMESTEPS)\n",
    "RMSE_opt = np.zeros(TIMESTEPS)\n",
    "\n",
    "# Remove initial state from classical and quantum fields\n",
    "Psi_classical_no_init = Psi_classical[1:, :, :]\n",
    "Psi_quantum_no_init = Psi_qlbm[1:, :, :]\n",
    "\n",
    "# Calculate MSE and RMSE for each timestep\n",
    "for t in range(TIMESTEPS):\n",
    "    difference = Psi_quantum_no_init[t, :, :] - Psi_classical_no_init[t, :, :]\n",
    "    MSE_opt[t] = np.mean(np.square(difference))\n",
    "    RMSE_opt[t] = np.sqrt(MSE_opt[t])"
   ]
  },
  {
   "cell_type": "code",
   "execution_count": null,
   "metadata": {},
   "outputs": [],
   "source": [
    "plt.rcParams.update({'font.size': 35})\n",
    "plt.rcParams['text.usetex'] = True\n",
    "plt.figure(1,figsize=(18.5, 10.5), dpi=100)\n",
    "plt.plot(list(range(1, TIMESTEPS+1)),RMSE_opt, linewidth=3)\n",
    "plt.grid()\n",
    "plt.legend(['D2Q9'],loc=0)\n",
    "plt.title('RMSE between digital and quantum LBM')\n",
    "plt.ylabel('error')\n",
    "plt.xlabel('time step')\n",
    "plt.draw()"
   ]
  }
 ],
 "metadata": {
  "kernelspec": {
   "display_name": "papersolutions",
   "language": "python",
   "name": "python3"
  },
  "language_info": {
   "codemirror_mode": {
    "name": "ipython",
    "version": 3
   },
   "file_extension": ".py",
   "mimetype": "text/x-python",
   "name": "python",
   "nbconvert_exporter": "python",
   "pygments_lexer": "ipython3",
   "version": "3.8.15"
  }
 },
 "nbformat": 4,
 "nbformat_minor": 2
}
