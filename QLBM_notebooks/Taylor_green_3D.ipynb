{
 "cells": [
  {
   "cell_type": "code",
   "execution_count": null,
   "metadata": {},
   "outputs": [],
   "source": [
    "from QLBM import QLBM, collision, InitializeQC\n",
    "import numpy as np\n",
    "import matplotlib.pyplot as plt\n",
    "import qiskit_aer\n",
    "from qiskit import transpile"
   ]
  },
  {
   "cell_type": "code",
   "execution_count": null,
   "metadata": {},
   "outputs": [],
   "source": [
    "# Grid size\n",
    "N_POINTS_X, N_POINTS_Y, N_POINTS_Z = 16, 16, 16\n",
    "\n",
    "# Simulation parameters\n",
    "TIMESTEPS = 5\n",
    "c_s = 1 / np.sqrt(3)\n",
    "NUMBER_DISCRETE_VELOCITIES = 27  # D2Q27\n",
    "\n",
    "# Diffusion coefficient\n",
    "diffusion_coefficient = 0.3 * c_s**2"
   ]
  },
  {
   "cell_type": "code",
   "execution_count": null,
   "metadata": {},
   "outputs": [],
   "source": [
    "Psi_init = np.zeros((N_POINTS_X, N_POINTS_Y, N_POINTS_Z))\n",
    "Psi_init=np.full([N_POINTS_X,N_POINTS_Y,N_POINTS_Z],0.1)\n",
    "Psi_init[:,int(N_POINTS_X/2)-1,:]=0.3\n",
    "Psi_init[:,:,int(N_POINTS_X/2-1)]=0.3\n",
    "Psi_init[int(N_POINTS_X/2-1),:,:]=0.3"
   ]
  },
  {
   "cell_type": "code",
   "execution_count": null,
   "metadata": {},
   "outputs": [],
   "source": [
    "# Parameters for velocity field\n",
    "A, B, C = 0.2, 0.2, 0.2  # Amplitude of velocity components\n",
    "a, b, c = 1, 1, 1    # Frequency parameters\n",
    "\n",
    "# Initialize velocity field\n",
    "u = np.zeros((N_POINTS_X, N_POINTS_Y, N_POINTS_Z, 3))\n",
    "x=np.linspace(0,2*np.pi,N_POINTS_X)\n",
    "y=np.linspace(0,2*np.pi,N_POINTS_Y)\n",
    "z=np.linspace(0,2*np.pi,N_POINTS_Z)\n",
    "# Populate the velocity field\n",
    "for i in range(N_POINTS_X):\n",
    "    for j in range(N_POINTS_Y):\n",
    "        for k in range(N_POINTS_Z):\n",
    "            u[i, j, k, 0] = A * np.cos(a * x[i]) * np.sin(b * y[j]) * np.sin(c * z[k])\n",
    "            u[i, j, k, 1] = B * np.sin(a * x[i]) * np.cos(b * y[j]) * np.sin(c * z[k])\n",
    "            u[i, j, k, 2] = C * np.sin(a * x[i]) * np.sin(b * y[j]) * np.cos(c * z[k])"
   ]
  },
  {
   "cell_type": "code",
   "execution_count": null,
   "metadata": {},
   "outputs": [],
   "source": [
    "simulator = qiskit_aer.backends.statevector_simulator.StatevectorSimulator()"
   ]
  },
  {
   "cell_type": "code",
   "execution_count": null,
   "metadata": {},
   "outputs": [],
   "source": [
    "# Initialize the Quantum LBM field\n",
    "Psi_qlbm = np.zeros((TIMESTEPS + 1, N_POINTS_X, N_POINTS_Y, N_POINTS_Z))\n",
    "Psi_qlbm[0, :, :, :] = Psi_init\n",
    "\n",
    "# Quantum LBM loop\n",
    "for t in range(TIMESTEPS):\n",
    "    u_LBM = u \n",
    "    qc = QLBM(density_field=Psi_qlbm[t, :, :, :], velocity_field=u_LBM, number_velocities=NUMBER_DISCRETE_VELOCITIES)\n",
    "    \n",
    "    # Compile and run the quantum circuit\n",
    "    compiled_circuit = transpile(qc, simulator)\n",
    "    result = simulator.run(compiled_circuit).result()\n",
    "    \n",
    "    # Extract and process the statevector\n",
    "    statevector = np.array(result.get_statevector())\n",
    "    real_part_statevector = np.real(statevector[:N_POINTS_X * N_POINTS_Y * N_POINTS_Z])\n",
    "    reshaped_real_part = np.reshape(real_part_statevector, (N_POINTS_X, N_POINTS_Y, N_POINTS_Z),order='C')\n",
    "    \n",
    "    # Normalize and update Psi_qlbm\n",
    "    norm_factor = np.linalg.norm(Psi_qlbm[t, :, :, :].flatten()) * 4 * np.sqrt(2)\n",
    "    Psi_qlbm[t + 1, :, :, :] = reshaped_real_part * norm_factor"
   ]
  },
  {
   "cell_type": "code",
   "execution_count": null,
   "metadata": {},
   "outputs": [],
   "source": [
    "# Lattice Boltzmann parameters\n",
    "LATTICE_VELOCITIES = np.array([\n",
    "    [0,  1, -1,  0,  0,   0,  0,  1, -1,  1, -1,  0,  0,  1, -1,  1, -1,  0,  0,  1, -1,  1, -1,  1, -1, -1,  1],\n",
    "    [0,  0,  0,  1, -1,   0,  0,  1, -1,  0,  0,  1, -1, -1,  1,  0,  0,  1, -1,  1, -1,  1, -1, -1,  1,  1, -1],\n",
    "    [0,  0,  0,  0,  0,   1, -1,  0,  0,  1, -1,  1, -1,  0,  0, -1,  1, -1,  1,  1, -1, -1,  1,  1, -1,  1, -1]\n",
    "])\n",
    "\n",
    "LATTICE_WEIGHTS = np.array([\n",
    "    8/27,                   \n",
    "    2/27, 2/27, 2/27, 2/27, 2/27, 2/27,  \n",
    "    1/54, 1/54, 1/54, 1/54, 1/54, 1/54, 1/54, 1/54, 1/54, 1/54, 1/54, 1/54,  \n",
    "    1/216, 1/216, 1/216, 1/216, 1/216, 1/216, 1/216, 1/216  \n",
    "])\n",
    "\n",
    "# Initialize the classical scalar field\n",
    "Psi_classical = np.zeros((TIMESTEPS + 1, N_POINTS_X, N_POINTS_Y, N_POINTS_Z))\n",
    "Psi_classical[0, :, :, :] = Psi_init\n",
    "\n",
    "# Initialize the distribution function\n",
    "f = np.zeros((27, N_POINTS_X, N_POINTS_Y, N_POINTS_Z))\n",
    "\n",
    "# Classical Lattice Boltzmann loop\n",
    "for t in range(TIMESTEPS):\n",
    "    # Calculate the equilibrium distribution function\n",
    "    for v in range(27):\n",
    "        velocity_projection = (\n",
    "            LATTICE_VELOCITIES[0, v] * u[:, :, :, 0] +\n",
    "            LATTICE_VELOCITIES[1, v] * u[:, :, :, 1] +\n",
    "            LATTICE_VELOCITIES[2, v] * u[:, :, :, 2]\n",
    "        )\n",
    "        f[v, :, :, :] = LATTICE_WEIGHTS[v] * Psi_classical[t, :, :, :] * (1 + (velocity_projection / c_s**2))\n",
    "\n",
    "    # Streaming step: Shift each distribution along its velocity direction\n",
    "    for v in range(27):\n",
    "        f[v, :, :, :] = np.roll(\n",
    "            np.roll(\n",
    "                np.roll(f[v, :, :, :], LATTICE_VELOCITIES[0, v], axis=0),\n",
    "                LATTICE_VELOCITIES[1, v], axis=1\n",
    "            ),\n",
    "            LATTICE_VELOCITIES[2, v], axis=2\n",
    "        )\n",
    "    \n",
    "    # Update the scalar field by summing over all distribution functions\n",
    "    Psi_classical[t + 1, :, :, :] = np.sum(f, axis=0)"
   ]
  },
  {
   "cell_type": "code",
   "execution_count": null,
   "metadata": {},
   "outputs": [],
   "source": [
    "# Initialize MSE and RMSE arrays\n",
    "MSE = np.zeros(TIMESTEPS)\n",
    "RMSE = np.zeros(TIMESTEPS)\n",
    "\n",
    "# Remove initial state from the classical and quantum fields\n",
    "Psi_classical_no_init = Psi_classical[1:, :, :, :]\n",
    "Psi_quantum_no_init = Psi_qlbm[1:, :, :, :]\n",
    "\n",
    "# Calculate MSE and RMSE for each timestep\n",
    "for t in range(TIMESTEPS):\n",
    "    difference = Psi_quantum_no_init[t, :, :, :] - Psi_classical_no_init[t, :, :, :]\n",
    "    MSE[t] = np.mean(np.square(difference))\n",
    "    RMSE[t] = np.sqrt(MSE[t])"
   ]
  },
  {
   "cell_type": "code",
   "execution_count": null,
   "metadata": {},
   "outputs": [],
   "source": [
    "plt.figure(figsize=(18.5, 10.5), dpi=100)\n",
    "plt.plot(range(1, TIMESTEPS + 1), RMSE, linewidth=3, label='D3Q27')\n",
    "plt.grid()\n",
    "plt.legend(loc='best')\n",
    "plt.title('RMSE between Digital and Quantum LBM')\n",
    "plt.ylabel('Error')\n",
    "plt.xlabel('Time Step')\n",
    "plt.show()"
   ]
  }
 ],
 "metadata": {
  "kernelspec": {
   "display_name": "papersolutions",
   "language": "python",
   "name": "python3"
  },
  "language_info": {
   "codemirror_mode": {
    "name": "ipython",
    "version": 3
   },
   "file_extension": ".py",
   "mimetype": "text/x-python",
   "name": "python",
   "nbconvert_exporter": "python",
   "pygments_lexer": "ipython3",
   "version": "3.8.15"
  }
 },
 "nbformat": 4,
 "nbformat_minor": 2
}
